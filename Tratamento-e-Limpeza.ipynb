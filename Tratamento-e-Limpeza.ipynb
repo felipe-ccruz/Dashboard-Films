{
 "cells": [
  {
   "cell_type": "code",
   "execution_count": 50,
   "id": "5cf5d391",
   "metadata": {},
   "outputs": [],
   "source": [
    "import pandas as pd\n",
    "import pandasql as ps\n",
    "import matplotlib.pyplot as plt\n",
    "import seaborn as sns\n",
    "\n",
    "pd.options.display.float_format = '{:.2f}'.format\n"
   ]
  },
  {
   "cell_type": "code",
   "execution_count": 51,
   "id": "ee4235ea",
   "metadata": {},
   "outputs": [],
   "source": [
    "# Carregar os dados\n",
    "df = pd.read_csv('movies_dataset.csv')"
   ]
  },
  {
   "cell_type": "code",
   "execution_count": 52,
   "id": "0a9869c6",
   "metadata": {},
   "outputs": [],
   "source": [
    "df = df.sample(10000)"
   ]
  },
  {
   "cell_type": "code",
   "execution_count": 53,
   "id": "6b61155a",
   "metadata": {},
   "outputs": [
    {
     "name": "stdout",
     "output_type": "stream",
     "text": [
      "<class 'pandas.core.frame.DataFrame'>\n",
      "Index: 10000 entries, 112703 to 167521\n",
      "Data columns (total 17 columns):\n",
      " #   Column                Non-Null Count  Dtype  \n",
      "---  ------                --------------  -----  \n",
      " 0   MovieID               10000 non-null  int64  \n",
      " 1   Title                 10000 non-null  object \n",
      " 2   Genre                 10000 non-null  object \n",
      " 3   ReleaseYear           10000 non-null  int64  \n",
      " 4   ReleaseDate           10000 non-null  object \n",
      " 5   Country               10000 non-null  object \n",
      " 6   BudgetUSD             10000 non-null  float64\n",
      " 7   US_BoxOfficeUSD       10000 non-null  float64\n",
      " 8   Global_BoxOfficeUSD   10000 non-null  float64\n",
      " 9   Opening_Day_SalesUSD  10000 non-null  float64\n",
      " 10  One_Week_SalesUSD     10000 non-null  float64\n",
      " 11  IMDbRating            10000 non-null  float64\n",
      " 12  RottenTomatoesScore   10000 non-null  int64  \n",
      " 13  NumVotesIMDb          10000 non-null  int64  \n",
      " 14  NumVotesRT            10000 non-null  int64  \n",
      " 15  Director              10000 non-null  object \n",
      " 16  LeadActor             10000 non-null  object \n",
      "dtypes: float64(6), int64(5), object(6)\n",
      "memory usage: 1.4+ MB\n"
     ]
    }
   ],
   "source": [
    "df.info()"
   ]
  },
  {
   "cell_type": "code",
   "execution_count": 54,
   "id": "42257aa7",
   "metadata": {},
   "outputs": [
    {
     "data": {
      "text/html": [
       "<div>\n",
       "<style scoped>\n",
       "    .dataframe tbody tr th:only-of-type {\n",
       "        vertical-align: middle;\n",
       "    }\n",
       "\n",
       "    .dataframe tbody tr th {\n",
       "        vertical-align: top;\n",
       "    }\n",
       "\n",
       "    .dataframe thead th {\n",
       "        text-align: right;\n",
       "    }\n",
       "</style>\n",
       "<table border=\"1\" class=\"dataframe\">\n",
       "  <thead>\n",
       "    <tr style=\"text-align: right;\">\n",
       "      <th></th>\n",
       "      <th>MovieID</th>\n",
       "      <th>Title</th>\n",
       "      <th>Genre</th>\n",
       "      <th>ReleaseYear</th>\n",
       "      <th>ReleaseDate</th>\n",
       "      <th>Country</th>\n",
       "      <th>BudgetUSD</th>\n",
       "      <th>US_BoxOfficeUSD</th>\n",
       "      <th>Global_BoxOfficeUSD</th>\n",
       "      <th>Opening_Day_SalesUSD</th>\n",
       "      <th>One_Week_SalesUSD</th>\n",
       "      <th>IMDbRating</th>\n",
       "      <th>RottenTomatoesScore</th>\n",
       "      <th>NumVotesIMDb</th>\n",
       "      <th>NumVotesRT</th>\n",
       "      <th>Director</th>\n",
       "      <th>LeadActor</th>\n",
       "    </tr>\n",
       "  </thead>\n",
       "  <tbody>\n",
       "    <tr>\n",
       "      <th>112703</th>\n",
       "      <td>112704</td>\n",
       "      <td>Skin</td>\n",
       "      <td>Action</td>\n",
       "      <td>2025</td>\n",
       "      <td>28-11-2025</td>\n",
       "      <td>USA</td>\n",
       "      <td>3163605.68</td>\n",
       "      <td>4680762.30</td>\n",
       "      <td>10968051.24</td>\n",
       "      <td>999507.51</td>\n",
       "      <td>2208496.41</td>\n",
       "      <td>4.30</td>\n",
       "      <td>49</td>\n",
       "      <td>932</td>\n",
       "      <td>133</td>\n",
       "      <td>Colleen Willis</td>\n",
       "      <td>Sydney Jordan</td>\n",
       "    </tr>\n",
       "    <tr>\n",
       "      <th>103689</th>\n",
       "      <td>103690</td>\n",
       "      <td>However newspaper</td>\n",
       "      <td>Drama</td>\n",
       "      <td>1978</td>\n",
       "      <td>19-10-1978</td>\n",
       "      <td>USA</td>\n",
       "      <td>1836815.54</td>\n",
       "      <td>1166815.09</td>\n",
       "      <td>2335289.37</td>\n",
       "      <td>199209.23</td>\n",
       "      <td>520544.59</td>\n",
       "      <td>6.20</td>\n",
       "      <td>45</td>\n",
       "      <td>2594</td>\n",
       "      <td>1665</td>\n",
       "      <td>Maria Lane</td>\n",
       "      <td>Jessica Scott</td>\n",
       "    </tr>\n",
       "    <tr>\n",
       "      <th>371329</th>\n",
       "      <td>371330</td>\n",
       "      <td>Near manager</td>\n",
       "      <td>Romance</td>\n",
       "      <td>2004</td>\n",
       "      <td>23-06-2004</td>\n",
       "      <td>China</td>\n",
       "      <td>1324399.33</td>\n",
       "      <td>872431.72</td>\n",
       "      <td>1324399.33</td>\n",
       "      <td>255781.26</td>\n",
       "      <td>366942.62</td>\n",
       "      <td>7.00</td>\n",
       "      <td>81</td>\n",
       "      <td>1725</td>\n",
       "      <td>175</td>\n",
       "      <td>Ryan Tate</td>\n",
       "      <td>Sabrina Massey</td>\n",
       "    </tr>\n",
       "    <tr>\n",
       "      <th>139619</th>\n",
       "      <td>139620</td>\n",
       "      <td>Development relationship man note</td>\n",
       "      <td>Comedy</td>\n",
       "      <td>1996</td>\n",
       "      <td>25-03-1996</td>\n",
       "      <td>USA</td>\n",
       "      <td>2924877.57</td>\n",
       "      <td>3769977.48</td>\n",
       "      <td>7604649.83</td>\n",
       "      <td>893841.82</td>\n",
       "      <td>2198947.66</td>\n",
       "      <td>7.90</td>\n",
       "      <td>86</td>\n",
       "      <td>7637</td>\n",
       "      <td>77</td>\n",
       "      <td>Kristina Moore</td>\n",
       "      <td>Kimberly Wolf</td>\n",
       "    </tr>\n",
       "    <tr>\n",
       "      <th>91048</th>\n",
       "      <td>91049</td>\n",
       "      <td>Care get</td>\n",
       "      <td>Action</td>\n",
       "      <td>2008</td>\n",
       "      <td>07-05-2008</td>\n",
       "      <td>USA</td>\n",
       "      <td>2445421.43</td>\n",
       "      <td>2741403.36</td>\n",
       "      <td>4107313.18</td>\n",
       "      <td>349790.89</td>\n",
       "      <td>1417691.96</td>\n",
       "      <td>9.90</td>\n",
       "      <td>100</td>\n",
       "      <td>388</td>\n",
       "      <td>51</td>\n",
       "      <td>Abigail Robles</td>\n",
       "      <td>Tyler Cooper</td>\n",
       "    </tr>\n",
       "  </tbody>\n",
       "</table>\n",
       "</div>"
      ],
      "text/plain": [
       "        MovieID                              Title    Genre  ReleaseYear  \\\n",
       "112703   112704                               Skin   Action         2025   \n",
       "103689   103690                  However newspaper    Drama         1978   \n",
       "371329   371330                       Near manager  Romance         2004   \n",
       "139619   139620  Development relationship man note   Comedy         1996   \n",
       "91048     91049                           Care get   Action         2008   \n",
       "\n",
       "       ReleaseDate Country  BudgetUSD  US_BoxOfficeUSD  Global_BoxOfficeUSD  \\\n",
       "112703  28-11-2025     USA 3163605.68       4680762.30          10968051.24   \n",
       "103689  19-10-1978     USA 1836815.54       1166815.09           2335289.37   \n",
       "371329  23-06-2004   China 1324399.33        872431.72           1324399.33   \n",
       "139619  25-03-1996     USA 2924877.57       3769977.48           7604649.83   \n",
       "91048   07-05-2008     USA 2445421.43       2741403.36           4107313.18   \n",
       "\n",
       "        Opening_Day_SalesUSD  One_Week_SalesUSD  IMDbRating  \\\n",
       "112703             999507.51         2208496.41        4.30   \n",
       "103689             199209.23          520544.59        6.20   \n",
       "371329             255781.26          366942.62        7.00   \n",
       "139619             893841.82         2198947.66        7.90   \n",
       "91048              349790.89         1417691.96        9.90   \n",
       "\n",
       "        RottenTomatoesScore  NumVotesIMDb  NumVotesRT        Director  \\\n",
       "112703                   49           932         133  Colleen Willis   \n",
       "103689                   45          2594        1665      Maria Lane   \n",
       "371329                   81          1725         175       Ryan Tate   \n",
       "139619                   86          7637          77  Kristina Moore   \n",
       "91048                   100           388          51  Abigail Robles   \n",
       "\n",
       "             LeadActor  \n",
       "112703   Sydney Jordan  \n",
       "103689   Jessica Scott  \n",
       "371329  Sabrina Massey  \n",
       "139619   Kimberly Wolf  \n",
       "91048     Tyler Cooper  "
      ]
     },
     "execution_count": 54,
     "metadata": {},
     "output_type": "execute_result"
    }
   ],
   "source": [
    "df.head()"
   ]
  },
  {
   "cell_type": "code",
   "execution_count": 55,
   "id": "37633b49",
   "metadata": {},
   "outputs": [
    {
     "data": {
      "text/plain": [
       "MovieID                 0\n",
       "Title                   0\n",
       "Genre                   0\n",
       "ReleaseYear             0\n",
       "ReleaseDate             0\n",
       "Country                 0\n",
       "BudgetUSD               0\n",
       "US_BoxOfficeUSD         0\n",
       "Global_BoxOfficeUSD     0\n",
       "Opening_Day_SalesUSD    0\n",
       "One_Week_SalesUSD       0\n",
       "IMDbRating              0\n",
       "RottenTomatoesScore     0\n",
       "NumVotesIMDb            0\n",
       "NumVotesRT              0\n",
       "Director                0\n",
       "LeadActor               0\n",
       "dtype: int64"
      ]
     },
     "execution_count": 55,
     "metadata": {},
     "output_type": "execute_result"
    }
   ],
   "source": [
    "df.isnull().sum()"
   ]
  },
  {
   "cell_type": "code",
   "execution_count": 56,
   "id": "6504574f",
   "metadata": {},
   "outputs": [
    {
     "data": {
      "text/plain": [
       "np.int64(0)"
      ]
     },
     "execution_count": 56,
     "metadata": {},
     "output_type": "execute_result"
    }
   ],
   "source": [
    "df.duplicated().sum()"
   ]
  },
  {
   "cell_type": "code",
   "execution_count": 57,
   "id": "5df1417b",
   "metadata": {},
   "outputs": [
    {
     "data": {
      "text/plain": [
       "Genre\n",
       "Drama          2497\n",
       "Comedy         1993\n",
       "Action         1499\n",
       "Horror         1004\n",
       "Romance         985\n",
       "Thriller        964\n",
       "Sci-Fi          561\n",
       "Documentary     497\n",
       "Name: count, dtype: int64"
      ]
     },
     "execution_count": 57,
     "metadata": {},
     "output_type": "execute_result"
    }
   ],
   "source": [
    "df['Genre'].value_counts()"
   ]
  },
  {
   "cell_type": "code",
   "execution_count": 58,
   "id": "3a840728",
   "metadata": {},
   "outputs": [
    {
     "data": {
      "text/plain": [
       "Country\n",
       "USA            7132\n",
       "UK              514\n",
       "India           514\n",
       "Canada          418\n",
       "France          331\n",
       "China           315\n",
       "Australia       272\n",
       "Germany         192\n",
       "Japan           191\n",
       "South Korea     121\n",
       "Name: count, dtype: int64"
      ]
     },
     "execution_count": 58,
     "metadata": {},
     "output_type": "execute_result"
    }
   ],
   "source": [
    "df['Country'].value_counts()"
   ]
  },
  {
   "cell_type": "code",
   "execution_count": 59,
   "id": "92ed3dd8",
   "metadata": {},
   "outputs": [
    {
     "data": {
      "text/plain": [
       "count   10000.00\n",
       "mean     1998.11\n",
       "std        19.07\n",
       "min      1950.00\n",
       "25%      1984.00\n",
       "50%      2001.00\n",
       "75%      2014.00\n",
       "max      2025.00\n",
       "Name: ReleaseYear, dtype: float64"
      ]
     },
     "execution_count": 59,
     "metadata": {},
     "output_type": "execute_result"
    }
   ],
   "source": [
    "round(df['ReleaseYear'].describe(), 2)"
   ]
  },
  {
   "cell_type": "code",
   "execution_count": 60,
   "id": "79ad8473",
   "metadata": {},
   "outputs": [
    {
     "data": {
      "text/plain": [
       "count       10000.00\n",
       "mean     10005824.97\n",
       "std      22880139.06\n",
       "min        100000.00\n",
       "25%       1219030.11\n",
       "50%       3280844.06\n",
       "75%       9042226.61\n",
       "max     300000000.00\n",
       "Name: BudgetUSD, dtype: float64"
      ]
     },
     "execution_count": 60,
     "metadata": {},
     "output_type": "execute_result"
    }
   ],
   "source": [
    "df['BudgetUSD'].describe()"
   ]
  },
  {
   "cell_type": "code",
   "execution_count": 65,
   "id": "d5450ad2",
   "metadata": {},
   "outputs": [
    {
     "data": {
      "image/png": "[encoded data removed]",
      "text/plain": [
       "<Figure size 640x480 with 1 Axes>"
      ]
     },
     "metadata": {},
     "output_type": "display_data"
    }
   ],
   "source": [
    "query = \"\"\"\n",
    "select \n",
    "    BudgetUSD\n",
    "from df\n",
    "where \n",
    "    BudgetUSD > 3265789.51\n",
    "\"\"\"\n",
    "\n",
    "result = ps.sqldf(query, locals())\n",
    "\n",
    "sns.violinplot(data=result)\n",
    "plt.show()"
   ]
  },
  {
   "cell_type": "code",
   "execution_count": 62,
   "id": "b4bc36af",
   "metadata": {},
   "outputs": [
    {
     "data": {
      "text/plain": [
       "count       10000.00\n",
       "mean     15564106.26\n",
       "std      41208034.98\n",
       "min         40200.65\n",
       "25%       1531708.75\n",
       "50%       4368362.65\n",
       "75%      13074153.99\n",
       "max     855736366.10\n",
       "Name: US_BoxOfficeUSD, dtype: float64"
      ]
     },
     "execution_count": 62,
     "metadata": {},
     "output_type": "execute_result"
    }
   ],
   "source": [
    "df['US_BoxOfficeUSD'].describe()"
   ]
  },
  {
   "cell_type": "code",
   "execution_count": 64,
   "id": "5b2557d8",
   "metadata": {},
   "outputs": [
    {
     "data": {
      "image/png": "[encoded data removed]",
      "text/plain": [
       "<Figure size 640x480 with 1 Axes>"
      ]
     },
     "metadata": {},
     "output_type": "display_data"
    }
   ],
   "source": [
    "query = \"\"\"\n",
    "select \n",
    "    US_BoxOfficeUSD\n",
    "from df\n",
    "where \n",
    "    US_BoxOfficeUSD > 4388875.59\n",
    "\"\"\"\n",
    "\n",
    "result = ps.sqldf(query, locals())\n",
    "\n",
    "sns.violinplot(data=result)\n",
    "plt.show()"
   ]
  }
 ],
 "metadata": {
  "kernelspec": {
   "display_name": "venv (3.13.3)",
   "language": "python",
   "name": "python3"
  },
  "language_info": {
   "codemirror_mode": {
    "name": "ipython",
    "version": 3
   },
   "file_extension": ".py",
   "mimetype": "text/x-python",
   "name": "python",
   "nbconvert_exporter": "python",
   "pygments_lexer": "ipython3",
   "version": "3.13.3"
  }
 },
 "nbformat": 4,
 "nbformat_minor": 5
}
